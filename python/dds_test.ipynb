{
 "cells": [
  {
   "cell_type": "code",
   "execution_count": 1,
   "id": "4c8e2df7-4628-48a2-92bc-91b66146e6a1",
   "metadata": {},
   "outputs": [
    {
     "data": {
      "application/javascript": [
       "\n",
       "try {\n",
       "require(['notebook/js/codecell'], function(codecell) {\n",
       "  codecell.CodeCell.options_default.highlight_modes[\n",
       "      'magic_text/x-csrc'] = {'reg':[/^%%microblaze/]};\n",
       "  Jupyter.notebook.events.one('kernel_ready.Kernel', function(){\n",
       "      Jupyter.notebook.get_cells().map(function(cell){\n",
       "          if (cell.cell_type == 'code'){ cell.auto_highlight(); } }) ;\n",
       "  });\n",
       "});\n",
       "} catch (e) {};\n"
      ]
     },
     "metadata": {},
     "output_type": "display_data"
    },
    {
     "data": {
      "application/javascript": [
       "\n",
       "try {\n",
       "require(['notebook/js/codecell'], function(codecell) {\n",
       "  codecell.CodeCell.options_default.highlight_modes[\n",
       "      'magic_text/x-csrc'] = {'reg':[/^%%pybind11/]};\n",
       "  Jupyter.notebook.events.one('kernel_ready.Kernel', function(){\n",
       "      Jupyter.notebook.get_cells().map(function(cell){\n",
       "          if (cell.cell_type == 'code'){ cell.auto_highlight(); } }) ;\n",
       "  });\n",
       "});\n",
       "} catch (e) {};\n"
      ]
     },
     "metadata": {},
     "output_type": "display_data"
    }
   ],
   "source": [
    "from test import TestOverlay\n",
    "\n",
    "test = TestOverlay('system.bit')"
   ]
  },
  {
   "cell_type": "code",
   "execution_count": 2,
   "id": "7238c1f1-3388-4534-a351-eb2be590bd2b",
   "metadata": {},
   "outputs": [],
   "source": [
    "test.init_rf_clks()"
   ]
  },
  {
   "cell_type": "code",
   "execution_count": 3,
   "id": "de26399d-a9ee-4759-b3f0-125d4564027f",
   "metadata": {},
   "outputs": [],
   "source": [
    "dds_mmio = test.dds_hls.mmio"
   ]
  },
  {
   "cell_type": "code",
   "execution_count": 4,
   "id": "eee8d236-4aa8-4ef8-a150-196ee5689e60",
   "metadata": {},
   "outputs": [
    {
     "name": "stdout",
     "output_type": "stream",
     "text": [
      "DTC Scan PLL\n",
      "Target 64, DTC Code 11, Diff 53, Min 53\n",
      "Target 64, DTC Code 30, Diff 34, Min 34\n",
      "Target 64, DTC Code 49, Diff 15, Min 15\n",
      "Target 64, DTC Code 68, Diff 4, Min 4\n",
      "Target 64, DTC Code 87, Diff 23, Min 4\n",
      "Target 64, DTC Code 105, Diff 41, Min 4\n",
      "Target 64, DTC Code 122, Diff 58, Min 4\n",
      "RefTile (0): DTC Code Target 64, Picked 68\n",
      "DAC0: 1322200000000000001112220000000000000113322000000000000011322200\u0000000*00000011322200000000000001132200000000000001112220000000000\u0000\n",
      "Tile (2): Max/Min 68/68, Range 0\n",
      "Tile (2): Code 9, New-Range: 59, Min-Range: 59\n",
      "Tile (2): Code 28, New-Range: 40, Min-Range: 40\n",
      "Tile (2): Code 48, New-Range: 20, Min-Range: 20\n",
      "Tile (2): Code 66, New-Range: 2, Min-Range: 2\n",
      "Tile (2): Code 85, New-Range: 17, Min-Range: 2\n",
      "Tile (2): Code 105, New-Range: 37, Min-Range: 2\n",
      "Tile (2): Code 122, New-Range: 54, Min-Range: 2\n",
      "Tile (2): Code 66, Range Prev 0, New 2\n",
      "DAC2: 322200000000000011132200000000000001113222000000000000011222000000*0\u000000001112220000000000000113222200000000000001132200000000000\u0000\n",
      "DTC  Scan T1\n",
      "Target 64, DTC Code 21, Diff 43, Min 43\n",
      "Target 64, DTC Code 58, Diff 6, Min 6\n",
      "Target 64, DTC Code 95, Diff 31, Min 6\n",
      "Target 64, DTC Code 122, Diff 58, Min 6\n",
      "RefTile (0): DTC Code Target 64, Picked 58\n",
      "DAC0: 1322220000000000000000000000000000000011222200000000000000*00000\u0000000000000113222000000000000000000000000000000001132220000000000\u0000\n",
      "Tile (2): Max/Min 58/58, Range 0\n",
      "Tile (2): Code 20, New-Range: 38, Min-Range: 38\n",
      "Tile (2): Code 58, New-Range: 0, Min-Range: 0\n",
      "Tile (2): Code 96, New-Range: 38, Min-Range: 0\n",
      "Tile (2): Code 122, New-Range: 64, Min-Range: 0\n",
      "Tile (2): Code 58, Range Prev 0, New 0\n",
      "DAC2: 1222200000000000000000000000000000000113222000000000000000*000000000000000113222200000000000000000000000000000001132220000000000\u0000\n",
      "Marker Read Tile 0, FIFO 0 - 00006000 = 0000: count=16, loc=0, done=1\n",
      "DAC0: Marker: - 16, 0\n",
      "Marker Read Tile 2, FIFO 0 - 0000E000 = 0000: count=16, loc=0, done=1\n",
      "DAC2: Marker: - 16, 0\n",
      "DAC 0 DUC 0 is in bypass mode in get_mixer_settings\n",
      "Count_W 16, loc_W 1\n",
      "SysRef period in terms of DAC T1s = 640\n",
      "DAC target latency = 256\n",
      "Tile 0, latency 256,  max 256\n",
      "Tile 2, latency 256,  max 256\n",
      "Target 256, Tile 0, delta 0, i/f_part 0/0, offset 0\n",
      "Target 256, Tile 2, delta 0, i/f_part 0/0, offset 0\n",
      "DTC Scan PLL\n",
      "Target 64, DTC Code 5, Diff 59, Min 59\n",
      "Target 64, DTC Code 24, Diff 40, Min 40\n",
      "Target 64, DTC Code 43, Diff 21, Min 21\n",
      "Target 64, DTC Code 61, Diff 3, Min 3\n",
      "Target 64, DTC Code 80, Diff 16, Min 3\n",
      "Target 64, DTC Code 99, Diff 35, Min 3\n",
      "Target 64, DTC Code 118, Diff 54, Min 3\n",
      "RefTile (0): DTC Code Target 64, Picked 61\n",
      "ADC0: 0000000000001112220000000000000111322000000000000011122200000*00\u0000000111222200000000000011322200000000000001132220000000000000113\u0000\n",
      "DTC  Scan T1\n",
      "Target 64, DTC Code 16, Diff 48, Min 48\n",
      "Target 64, DTC Code 53, Diff 11, Min 11\n",
      "Target 64, DTC Code 90, Diff 26, Min 11\n",
      "Target 64, DTC Code 120, Diff 56, Min 11\n",
      "RefTile (0): DTC Code Target 64, Picked 53\n",
      "ADC0: 20000000000000000000000000000000011322200000000000000*0000000000\u0000000011322200000000000000000000000000000000113222000000000000000\u0000\n",
      "Marker Read Tile 0, FIFO 0 - 00014000 = 180009: count=9, loc=8, done=1\n",
      "ADC0: Marker: - 9, 8\n",
      "Count_W 12, loc_W 1\n",
      "SysRef period in terms of ADC T1s = 648\n",
      "ADC target latency = 116\n",
      "Tile 0, latency 116,  max 116\n",
      "Target 116, Tile 0, delta 0, i/f_part 0/0, offset 0\n"
     ]
    }
   ],
   "source": [
    "test.mts()"
   ]
  },
  {
   "cell_type": "code",
   "execution_count": 5,
   "id": "77361336-415b-4ab2-8a65-3203b003609a",
   "metadata": {},
   "outputs": [],
   "source": [
    "test.set_pinc(0x0e00)"
   ]
  },
  {
   "cell_type": "code",
   "execution_count": null,
   "id": "6c8e76eb-b7dd-4ddc-af22-2e4a58f93d81",
   "metadata": {},
   "outputs": [],
   "source": []
  }
 ],
 "metadata": {
  "kernelspec": {
   "display_name": "Python 3 (ipykernel)",
   "language": "python",
   "name": "python3"
  },
  "language_info": {
   "codemirror_mode": {
    "name": "ipython",
    "version": 3
   },
   "file_extension": ".py",
   "mimetype": "text/x-python",
   "name": "python",
   "nbconvert_exporter": "python",
   "pygments_lexer": "ipython3",
   "version": "3.10.4"
  }
 },
 "nbformat": 4,
 "nbformat_minor": 5
}
